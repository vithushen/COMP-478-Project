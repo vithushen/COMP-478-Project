{
 "cells": [
  {
   "cell_type": "code",
   "execution_count": null,
   "metadata": {},
   "outputs": [],
   "source": [
    "import cv2\n",
    "import matplotlib.pyplot as plt\n",
    "\n",
    "# Load the image\n",
    "img = cv2.imread('image1.png')\n",
    "\n",
    "# Convert the image to grayscale\n",
    "gray = cv2.cvtColor(img, cv2.COLOR_BGR2GRAY)\n",
    "\n",
    "# Apply histogram equalization to enhance contrast\n",
    "equ = cv2.equalizeHist(gray)\n",
    "\n",
    "# Display the original and enhanced images side by side\n",
    "fig, ax = plt.subplots(nrows=1, ncols=2, figsize=(10, 5))\n",
    "ax[0].imshow(cv2.cvtColor(img, cv2.COLOR_BGR2RGB))\n",
    "ax[0].set_title('Original Image')\n",
    "ax[1].imshow(equ, cmap='gray')\n",
    "ax[1].set_title('Enhanced Image')\n",
    "plt.show()"
   ]
  },
  {
   "cell_type": "code",
   "execution_count": 1,
   "metadata": {},
   "outputs": [],
   "source": [
    "import cv2\n",
    "import numpy as np\n",
    "\n",
    "def adjust_gamma(image, gamma=1.0):\n",
    "    # build a lookup table mapping the pixel values [0, 255] to\n",
    "    # their adjusted gamma values\n",
    "    invGamma = 1.0 / gamma\n",
    "    table = np.array([((i / 255.0) ** invGamma) * 255\n",
    "        for i in np.arange(0, 256)]).astype(\"uint8\")\n",
    "\n",
    "    # apply gamma correction using the lookup table\n",
    "    return cv2.LUT(image, table)\n",
    "\n",
    "# load the input image and display it\n",
    "image = cv2.imread(\"image1.png\")\n",
    "cv2.imshow(\"Original\", image)\n",
    "\n",
    "# apply gamma correction and display the output image\n",
    "gamma = 1.5 # you can adjust this parameter to change the gamma value\n",
    "adjusted = adjust_gamma(image, gamma=gamma)\n",
    "cv2.imshow(\"Adjusted\", adjusted)\n",
    "\n",
    "# wait for a key press and then save and close all windows\n",
    "cv2.waitKey(0)\n",
    "cv2.destroyAllWindows()"
   ]
  },
  {
   "cell_type": "code",
   "execution_count": null,
   "metadata": {},
   "outputs": [],
   "source": [
    "import cv2\n",
    "import numpy as np\n",
    "import matplotlib.pyplot as plt\n",
    "from skimage import exposure\n",
    "\n",
    "# Load the image\n",
    "img = cv2.imread('image1.png')\n",
    "\n",
    "# Apply contrast stretching\n",
    "p2, p98 = np.percentile(img, (2, 98))\n",
    "img_rescale = exposure.rescale_intensity(img, in_range=(p2, p98))\n",
    "\n",
    "# Display the original and enhanced images side by side\n",
    "fig, ax = plt.subplots(nrows=1, ncols=2, figsize=(10, 5))\n",
    "ax[0].imshow(cv2.cvtColor(img, cv2.COLOR_BGR2RGB))\n",
    "ax[0].set_title('Original Image')\n",
    "ax[1].imshow(cv2.cvtColor(img_rescale, cv2.COLOR_BGR2RGB))\n",
    "ax[1].set_title('Enhanced Image')\n",
    "plt.show()"
   ]
  }
 ],
 "metadata": {
  "kernelspec": {
   "display_name": "Python 3",
   "language": "python",
   "name": "python3"
  },
  "language_info": {
   "codemirror_mode": {
    "name": "ipython",
    "version": 3
   },
   "file_extension": ".py",
   "mimetype": "text/x-python",
   "name": "python",
   "nbconvert_exporter": "python",
   "pygments_lexer": "ipython3",
   "version": "3.10.10"
  },
  "orig_nbformat": 4
 },
 "nbformat": 4,
 "nbformat_minor": 2
}
