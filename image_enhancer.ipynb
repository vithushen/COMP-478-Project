{
 "cells": [
  {
   "cell_type": "code",
   "execution_count": 2,
   "metadata": {},
   "outputs": [],
   "source": [
    "import cv2\n",
    "import matplotlib.pyplot as plt\n",
    "\n",
    "img = cv2.imread('images/noisy_image.png')\n",
    "\n",
    "# Convert the image to grayscale\n",
    "gray = cv2.cvtColor(img, cv2.COLOR_BGR2GRAY)\n",
    "\n",
    "# Apply histogram equalization\n",
    "new_image = cv2.equalizeHist(gray)\n",
    "\n",
    "cv2.imwrite('images/histogram_image.jpg', new_image)\n",
    "\n",
    "# Display the noisy image\n",
    "cv2.imshow('Original Image', img)\n",
    "cv2.imshow('Histogram Equalizer', new_image)\n",
    "\n",
    "# Wait for a key press and then close the window\n",
    "cv2.waitKey(0)\n",
    "cv2.destroyAllWindows()"
   ]
  },
  {
   "cell_type": "code",
   "execution_count": null,
   "metadata": {},
   "outputs": [],
   "source": []
  },
  {
   "cell_type": "code",
   "execution_count": 3,
   "metadata": {},
   "outputs": [],
   "source": [
    "import cv2\n",
    "import numpy as np\n",
    "import matplotlib.pyplot as plt\n",
    "from skimage import exposure\n",
    "\n",
    "# Load the image\n",
    "img = cv2.imread('images/noisy_image.png')\n",
    "\n",
    "# Apply contrast stretching\n",
    "p2, p98 = np.percentile(img, (2, 98))\n",
    "new_image = exposure.rescale_intensity(img, in_range=(p2, p98))\n",
    "\n",
    "cv2.imwrite('images/contrast_stretched_image.jpg', new_image)\n",
    "\n",
    "# Display the noisy image\n",
    "cv2.imshow('Original Image', img)\n",
    "cv2.imshow('Contrast Stretching', new_image)\n",
    "\n",
    "# Wait for a key press and then close the window\n",
    "cv2.waitKey(0)\n",
    "cv2.destroyAllWindows()"
   ]
  }
 ],
 "metadata": {
  "kernelspec": {
   "display_name": "Python 3",
   "language": "python",
   "name": "python3"
  },
  "language_info": {
   "codemirror_mode": {
    "name": "ipython",
    "version": 3
   },
   "file_extension": ".py",
   "mimetype": "text/x-python",
   "name": "python",
   "nbconvert_exporter": "python",
   "pygments_lexer": "ipython3",
   "version": "3.10.11"
  },
  "orig_nbformat": 4
 },
 "nbformat": 4,
 "nbformat_minor": 2
}
