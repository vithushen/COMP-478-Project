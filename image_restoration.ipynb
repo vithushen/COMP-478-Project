{
 "cells": [
  {
   "cell_type": "code",
   "execution_count": 13,
   "metadata": {},
   "outputs": [],
   "source": [
    "import cv2\n",
    "import numpy as np\n",
    "\n",
    "img = cv2.imread('images/original_image.png')\n",
    "\n",
    "# Generate random noise and add it to the image\n",
    "noise = np.zeros(img.shape, np.uint8)\n",
    "cv2.randn(noise, 0, 50)\n",
    "noisy_img = cv2.add(img, noise)\n",
    "\n",
    "# Save the noisy image as a new file\n",
    "cv2.imwrite('images/noisy_image.jpg', noisy_img)\n",
    "\n",
    "# Display the noisy image\n",
    "cv2.imshow('Noisy Image', noisy_img)\n",
    "\n",
    "# Wait for a key press and then close the window\n",
    "cv2.waitKey(0)\n",
    "cv2.destroyAllWindows()\n"
   ]
  },
  {
   "cell_type": "code",
   "execution_count": 10,
   "metadata": {},
   "outputs": [],
   "source": [
    "import cv2\n",
    "\n",
    "img = cv2.imread('noisy_image.jpg')\n",
    "\n",
    "# Apply Gaussian blur\n",
    "gaussian = cv2.GaussianBlur(img, (7, 7), 0)\n",
    "\n",
    "# Save the noisy image as a new file\n",
    "cv2.imwrite('images/gaussian_image.jpg', gaussian)\n",
    "\n",
    "# Display the original and restored images\n",
    "cv2.imshow('Original Image', img)\n",
    "cv2.imshow('Restored Image (Gaussian)', gaussian)\n",
    "\n",
    "# Wait for a key press and then close the windows\n",
    "cv2.waitKey(0)\n",
    "cv2.destroyAllWindows()"
   ]
  },
  {
   "cell_type": "code",
   "execution_count": 11,
   "metadata": {},
   "outputs": [],
   "source": [
    "import cv2\n",
    "\n",
    "img = cv2.imread('noisy_image.jpg')\n",
    "\n",
    "# Apply Non-Local Means denoising\n",
    "denoised = cv2.fastNlMeansDenoisingColored(img, None, 5, 5, 7, 21)\n",
    "\n",
    "# Save the image locally\n",
    "cv2.imwrite('images/non-local_image.jpg', denoised)\n",
    "\n",
    "# Display the original and restored images\n",
    "cv2.imshow('Original Image', img)\n",
    "cv2.imshow('Restored Image (Non-Local Means)', denoised)\n",
    "\n",
    "# Wait for a key press and then close the windows\n",
    "cv2.waitKey(0)\n",
    "cv2.destroyAllWindows()\n"
   ]
  }
 ],
 "metadata": {
  "kernelspec": {
   "display_name": "Python 3",
   "language": "python",
   "name": "python3"
  },
  "language_info": {
   "codemirror_mode": {
    "name": "ipython",
    "version": 3
   },
   "file_extension": ".py",
   "mimetype": "text/x-python",
   "name": "python",
   "nbconvert_exporter": "python",
   "pygments_lexer": "ipython3",
   "version": "3.10.11"
  },
  "orig_nbformat": 4
 },
 "nbformat": 4,
 "nbformat_minor": 2
}
